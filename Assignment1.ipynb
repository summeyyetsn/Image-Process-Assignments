{
 "cells": [
  {
   "cell_type": "code",
   "execution_count": 1,
   "id": "ee7e8e40",
   "metadata": {},
   "outputs": [
    {
     "name": "stdout",
     "output_type": "stream",
     "text": [
      "[[4, 8, 2], [9, 5, 1]]\n"
     ]
    }
   ],
   "source": [
    "a = [\n",
    "    [4,8,2],\n",
    "    [9,5,1]\n",
    "    ]\n",
    "print(a)"
   ]
  },
  {
   "cell_type": "code",
   "execution_count": 3,
   "id": "4ebc5896",
   "metadata": {},
   "outputs": [
    {
     "name": "stdout",
     "output_type": "stream",
     "text": [
      "[[1 2 3]\n",
      " [4 5 6]]\n"
     ]
    }
   ],
   "source": [
    "import numpy as np\n",
    "A = np.array([[1,2,3],[4,5,6]])\n",
    "print(A)"
   ]
  },
  {
   "cell_type": "code",
   "execution_count": 4,
   "id": "1b3702dc",
   "metadata": {},
   "outputs": [
    {
     "name": "stdout",
     "output_type": "stream",
     "text": [
      "[[0. 0. 0.]\n",
      " [0. 0. 0.]]\n"
     ]
    }
   ],
   "source": [
    "array = np.zeros((2,3))\n",
    "print(array)"
   ]
  },
  {
   "cell_type": "code",
   "execution_count": 6,
   "id": "c41413cb",
   "metadata": {},
   "outputs": [
    {
     "name": "stdout",
     "output_type": "stream",
     "text": [
      "[[1. 1. 1. 1.]\n",
      " [1. 1. 1. 1.]\n",
      " [1. 1. 1. 1.]\n",
      " [1. 1. 1. 1.]\n",
      " [1. 1. 1. 1.]\n",
      " [1. 1. 1. 1.]\n",
      " [1. 1. 1. 1.]\n",
      " [1. 1. 1. 1.]]\n"
     ]
    }
   ],
   "source": [
    "array1=np.ones((8,4))\n",
    "print(array1)"
   ]
  },
  {
   "cell_type": "code",
   "execution_count": 8,
   "id": "7287bff8",
   "metadata": {},
   "outputs": [
    {
     "name": "stdout",
     "output_type": "stream",
     "text": [
      "toplam=30 , fark=20, çarpım=125, bölüm=5.0\n"
     ]
    }
   ],
   "source": [
    "num1 = 25\n",
    "num2 = 5 \n",
    "sum = num1 + num2\n",
    "sub = num1 - num2\n",
    "mul = num1 * num2\n",
    "div = num1 / num2\n",
    "print(f\"toplam={sum} , fark={sub}, çarpım={mul}, bölüm={div}\")"
   ]
  },
  {
   "cell_type": "code",
   "execution_count": 12,
   "id": "39984a16",
   "metadata": {},
   "outputs": [
    {
     "name": "stdout",
     "output_type": "stream",
     "text": [
      "10\n",
      "15\n",
      "13\n"
     ]
    }
   ],
   "source": [
    "x=10\n",
    "print(x)\n",
    "x+=5\n",
    "print(x)\n",
    "x-=2\n",
    "print(x)"
   ]
  },
  {
   "cell_type": "code",
   "execution_count": 15,
   "id": "2e028511",
   "metadata": {},
   "outputs": [
    {
     "name": "stdout",
     "output_type": "stream",
     "text": [
      "Enter a number: 0\n",
      "Number is ZERO !\n"
     ]
    }
   ],
   "source": [
    "number = int(input(\"Enter a number: \"))\n",
    "if number>0:\n",
    "    print(\"Number is POSITIVE! \")\n",
    "elif number<0:\n",
    "    print(\"Number is NEGATIVE! \")\n",
    "else:\n",
    "    print(\"Number is ZERO !\")"
   ]
  },
  {
   "cell_type": "code",
   "execution_count": 21,
   "id": "60e64288",
   "metadata": {},
   "outputs": [
    {
     "name": "stdout",
     "output_type": "stream",
     "text": [
      "--> 0\n",
      "--> 1\n",
      "--> 2\n",
      "--> 3\n",
      "--> 4\n",
      "--> 5\n",
      "--> 6\n",
      "--> 7\n",
      "--> 8\n",
      "--> 9\n"
     ]
    }
   ],
   "source": [
    "for i in range(10):\n",
    "    print(f\"--> {i}\")\n"
   ]
  },
  {
   "cell_type": "code",
   "execution_count": 24,
   "id": "453ddfef",
   "metadata": {},
   "outputs": [
    {
     "name": "stdout",
     "output_type": "stream",
     "text": [
      "--> 15\n",
      "--> 14\n",
      "--> 13\n",
      "--> 12\n",
      "--> 11\n"
     ]
    }
   ],
   "source": [
    "for j in range(15,10,-1):\n",
    "    print(f\"--> {j}\")"
   ]
  },
  {
   "cell_type": "code",
   "execution_count": 25,
   "id": "e4506e01",
   "metadata": {},
   "outputs": [
    {
     "name": "stdout",
     "output_type": "stream",
     "text": [
      "S\n",
      "e\n",
      "h\n",
      "e\n",
      "r\n",
      " \n",
      "S\n",
      "ü\n",
      "m\n",
      "e\n",
      "y\n",
      "y\n",
      "e\n",
      " \n",
      "T\n",
      "o\n",
      "s\n",
      "u\n",
      "n\n"
     ]
    }
   ],
   "source": [
    "my_name=\"Seher Sümeyye Tosun\"\n",
    "for letter in(my_name):\n",
    "    print(letter)"
   ]
  },
  {
   "cell_type": "code",
   "execution_count": 41,
   "id": "409e2e16",
   "metadata": {},
   "outputs": [
    {
     "name": "stdout",
     "output_type": "stream",
     "text": [
      "8\n",
      "Sum 38\n"
     ]
    }
   ],
   "source": [
    "arr=[1,4,6,8,2,7,3,7]\n",
    "length=len(arr)\n",
    "sum = 0\n",
    "i = 0\n",
    "while i < length:\n",
    "    sum = sum + arr[i]\n",
    "    i = i+1\n",
    "print(\"Sum\", sum)"
   ]
  },
  {
   "cell_type": "code",
   "execution_count": 48,
   "id": "4564873a",
   "metadata": {},
   "outputs": [
    {
     "name": "stdout",
     "output_type": "stream",
     "text": [
      "34\n",
      "124\n"
     ]
    }
   ],
   "source": [
    "def sum_function(a,b):\n",
    "    summation = a + b\n",
    "    print(summation)\n",
    "x = 10\n",
    "y = 24\n",
    "sum_function(x,y)\n",
    "sum_function(50,74)"
   ]
  },
  {
   "cell_type": "code",
   "execution_count": null,
   "id": "e8cf81ad",
   "metadata": {},
   "outputs": [],
   "source": []
  }
 ],
 "metadata": {
  "kernelspec": {
   "display_name": "Python 3 (ipykernel)",
   "language": "python",
   "name": "python3"
  },
  "language_info": {
   "codemirror_mode": {
    "name": "ipython",
    "version": 3
   },
   "file_extension": ".py",
   "mimetype": "text/x-python",
   "name": "python",
   "nbconvert_exporter": "python",
   "pygments_lexer": "ipython3",
   "version": "3.9.12"
  }
 },
 "nbformat": 4,
 "nbformat_minor": 5
}
